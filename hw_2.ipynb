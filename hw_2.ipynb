{
 "cells": [
  {
   "cell_type": "code",
   "execution_count": 2,
   "metadata": {},
   "outputs": [],
   "source": [
    "import pandas as pd\n",
    "\n",
    "data = pd.read_csv('kc_house_data.csv')"
   ]
  },
  {
   "cell_type": "code",
   "execution_count": 4,
   "metadata": {},
   "outputs": [
    {
     "name": "stdout",
     "output_type": "stream",
     "text": [
      "                                                  id  date  price  bedrooms  \\\n",
      "0  7129300520,\"20141013T000000\",221900,3,1,1180,5...   NaN    NaN       NaN   \n",
      "1  6414100192,\"20141209T000000\",538000,3,2.25,257...   NaN    NaN       NaN   \n",
      "2  5631500400,\"20150225T000000\",180000,2,1,770,10...   NaN    NaN       NaN   \n",
      "3  2487200875,\"20141209T000000\",604000,4,3,1960,5...   NaN    NaN       NaN   \n",
      "4  1954400510,\"20150218T000000\",510000,3,2,1680,8...   NaN    NaN       NaN   \n",
      "\n",
      "   bathrooms  sqft_living  sqft_lot  floors  waterfront  view  ...  grade  \\\n",
      "0        NaN          NaN       NaN     NaN         NaN   NaN  ...    NaN   \n",
      "1        NaN          NaN       NaN     NaN         NaN   NaN  ...    NaN   \n",
      "2        NaN          NaN       NaN     NaN         NaN   NaN  ...    NaN   \n",
      "3        NaN          NaN       NaN     NaN         NaN   NaN  ...    NaN   \n",
      "4        NaN          NaN       NaN     NaN         NaN   NaN  ...    NaN   \n",
      "\n",
      "   sqft_above  sqft_basement  yr_built  yr_renovated  zipcode  lat  long  \\\n",
      "0         NaN            NaN       NaN           NaN      NaN  NaN   NaN   \n",
      "1         NaN            NaN       NaN           NaN      NaN  NaN   NaN   \n",
      "2         NaN            NaN       NaN           NaN      NaN  NaN   NaN   \n",
      "3         NaN            NaN       NaN           NaN      NaN  NaN   NaN   \n",
      "4         NaN            NaN       NaN           NaN      NaN  NaN   NaN   \n",
      "\n",
      "   sqft_living15  sqft_lot15  \n",
      "0            NaN         NaN  \n",
      "1            NaN         NaN  \n",
      "2            NaN         NaN  \n",
      "3            NaN         NaN  \n",
      "4            NaN         NaN  \n",
      "\n",
      "[5 rows x 21 columns]\n"
     ]
    }
   ],
   "source": [
    "print(data.head())"
   ]
  },
  {
   "cell_type": "code",
   "execution_count": 5,
   "metadata": {},
   "outputs": [
    {
     "name": "stdout",
     "output_type": "stream",
     "text": [
      "id                object\n",
      "date             float64\n",
      "price            float64\n",
      "bedrooms         float64\n",
      "bathrooms        float64\n",
      "sqft_living      float64\n",
      "sqft_lot         float64\n",
      "floors           float64\n",
      "waterfront       float64\n",
      "view             float64\n",
      "condition        float64\n",
      "grade            float64\n",
      "sqft_above       float64\n",
      "sqft_basement    float64\n",
      "yr_built         float64\n",
      "yr_renovated     float64\n",
      "zipcode          float64\n",
      "lat              float64\n",
      "long             float64\n",
      "sqft_living15    float64\n",
      "sqft_lot15       float64\n",
      "dtype: object\n"
     ]
    }
   ],
   "source": [
    "print(data.dtypes)"
   ]
  },
  {
   "cell_type": "code",
   "execution_count": 6,
   "metadata": {},
   "outputs": [
    {
     "name": "stdout",
     "output_type": "stream",
     "text": [
      "id                   0\n",
      "date             21613\n",
      "price            21613\n",
      "bedrooms         21613\n",
      "bathrooms        21613\n",
      "sqft_living      21613\n",
      "sqft_lot         21613\n",
      "floors           21613\n",
      "waterfront       21613\n",
      "view             21613\n",
      "condition        21613\n",
      "grade            21613\n",
      "sqft_above       21613\n",
      "sqft_basement    21613\n",
      "yr_built         21613\n",
      "yr_renovated     21613\n",
      "zipcode          21613\n",
      "lat              21613\n",
      "long             21613\n",
      "sqft_living15    21613\n",
      "sqft_lot15       21613\n",
      "dtype: int64\n"
     ]
    }
   ],
   "source": [
    "print(data.isnull().sum())"
   ]
  },
  {
   "cell_type": "code",
   "execution_count": 7,
   "metadata": {},
   "outputs": [
    {
     "name": "stdout",
     "output_type": "stream",
     "text": [
      "       date  price  bedrooms  bathrooms  sqft_living  sqft_lot  floors  \\\n",
      "count   0.0    0.0       0.0        0.0          0.0       0.0     0.0   \n",
      "mean    NaN    NaN       NaN        NaN          NaN       NaN     NaN   \n",
      "std     NaN    NaN       NaN        NaN          NaN       NaN     NaN   \n",
      "min     NaN    NaN       NaN        NaN          NaN       NaN     NaN   \n",
      "25%     NaN    NaN       NaN        NaN          NaN       NaN     NaN   \n",
      "50%     NaN    NaN       NaN        NaN          NaN       NaN     NaN   \n",
      "75%     NaN    NaN       NaN        NaN          NaN       NaN     NaN   \n",
      "max     NaN    NaN       NaN        NaN          NaN       NaN     NaN   \n",
      "\n",
      "       waterfront  view  condition  grade  sqft_above  sqft_basement  \\\n",
      "count         0.0   0.0        0.0    0.0         0.0            0.0   \n",
      "mean          NaN   NaN        NaN    NaN         NaN            NaN   \n",
      "std           NaN   NaN        NaN    NaN         NaN            NaN   \n",
      "min           NaN   NaN        NaN    NaN         NaN            NaN   \n",
      "25%           NaN   NaN        NaN    NaN         NaN            NaN   \n",
      "50%           NaN   NaN        NaN    NaN         NaN            NaN   \n",
      "75%           NaN   NaN        NaN    NaN         NaN            NaN   \n",
      "max           NaN   NaN        NaN    NaN         NaN            NaN   \n",
      "\n",
      "       yr_built  yr_renovated  zipcode  lat  long  sqft_living15  sqft_lot15  \n",
      "count       0.0           0.0      0.0  0.0   0.0            0.0         0.0  \n",
      "mean        NaN           NaN      NaN  NaN   NaN            NaN         NaN  \n",
      "std         NaN           NaN      NaN  NaN   NaN            NaN         NaN  \n",
      "min         NaN           NaN      NaN  NaN   NaN            NaN         NaN  \n",
      "25%         NaN           NaN      NaN  NaN   NaN            NaN         NaN  \n",
      "50%         NaN           NaN      NaN  NaN   NaN            NaN         NaN  \n",
      "75%         NaN           NaN      NaN  NaN   NaN            NaN         NaN  \n",
      "max         NaN           NaN      NaN  NaN   NaN            NaN         NaN  \n"
     ]
    }
   ],
   "source": [
    "print(data.describe())"
   ]
  },
  {
   "cell_type": "code",
   "execution_count": 8,
   "metadata": {},
   "outputs": [
    {
     "name": "stdout",
     "output_type": "stream",
     "text": [
      "nan nan\n"
     ]
    }
   ],
   "source": [
    "print(data['price'].min(), data['price'].max())"
   ]
  },
  {
   "cell_type": "code",
   "execution_count": 16,
   "metadata": {},
   "outputs": [
    {
     "name": "stdout",
     "output_type": "stream",
     "text": [
      "nan\n"
     ]
    },
    {
     "name": "stderr",
     "output_type": "stream",
     "text": [
      "C:\\Users\\andrj\\AppData\\Local\\Temp\\ipykernel_6848\\1606349006.py:1: RuntimeWarning: invalid value encountered in scalar divide\n",
      "  print(data['sqft_living15'].sum() / data['sqft_lot15'].sum())\n"
     ]
    }
   ],
   "source": [
    "print(data['sqft_living15'].sum() / data['sqft_lot15'].sum())"
   ]
  },
  {
   "cell_type": "code",
   "execution_count": 10,
   "metadata": {},
   "outputs": [
    {
     "name": "stdout",
     "output_type": "stream",
     "text": [
      "0\n"
     ]
    }
   ],
   "source": [
    "print(data['floors'].nunique())"
   ]
  },
  {
   "cell_type": "code",
   "execution_count": 11,
   "metadata": {},
   "outputs": [
    {
     "name": "stdout",
     "output_type": "stream",
     "text": [
      "nan\n"
     ]
    }
   ],
   "source": [
    "print(data['condition'].mean())"
   ]
  },
  {
   "cell_type": "code",
   "execution_count": 12,
   "metadata": {},
   "outputs": [
    {
     "name": "stdout",
     "output_type": "stream",
     "text": [
      "nan nan\n"
     ]
    }
   ],
   "source": [
    "print(data['yr_built'].min(), data['yr_built'].max())"
   ]
  },
  {
   "cell_type": "code",
   "execution_count": 13,
   "metadata": {},
   "outputs": [
    {
     "name": "stdout",
     "output_type": "stream",
     "text": [
      "0\n"
     ]
    }
   ],
   "source": [
    "client_data = data[(data['waterfront'] == 1) & (data['bathrooms'] >= 3) & (data['sqft_basement'] > 0)]\n",
    "print(len(client_data))"
   ]
  },
  {
   "cell_type": "code",
   "execution_count": 14,
   "metadata": {},
   "outputs": [
    {
     "name": "stdout",
     "output_type": "stream",
     "text": [
      "nan nan\n"
     ]
    }
   ],
   "source": [
    "client_data = data[((data['view'] >= 4) | (data['waterfront'] == 1)) & (data['yr_built'] >= 1980) & (data['condition'] >= 4)]\n",
    "print(client_data['price'].min(), client_data['price'].max())"
   ]
  },
  {
   "cell_type": "code",
   "execution_count": 15,
   "metadata": {},
   "outputs": [
    {
     "name": "stdout",
     "output_type": "stream",
     "text": [
      "nan\n"
     ]
    }
   ],
   "source": [
    "client_data = data[(data['floors'] == 2) & (data['price'] <= 150000) & (data['sqft_basement'] == 0)]\n",
    "print(client_data['condition'].mean())"
   ]
  }
 ],
 "metadata": {
  "kernelspec": {
   "display_name": "Python 3",
   "language": "python",
   "name": "python3"
  },
  "language_info": {
   "codemirror_mode": {
    "name": "ipython",
    "version": 3
   },
   "file_extension": ".py",
   "mimetype": "text/x-python",
   "name": "python",
   "nbconvert_exporter": "python",
   "pygments_lexer": "ipython3",
   "version": "3.11.1"
  },
  "orig_nbformat": 4,
  "vscode": {
   "interpreter": {
    "hash": "49ecb3f0fdef7e19e056dc33d79febc04e7d6e6ede6842a635daf2a598897be7"
   }
  }
 },
 "nbformat": 4,
 "nbformat_minor": 2
}
